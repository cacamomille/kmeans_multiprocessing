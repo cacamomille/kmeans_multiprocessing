{
  "nbformat": 4,
  "nbformat_minor": 0,
  "metadata": {
    "colab": {
      "provenance": [],
      "authorship_tag": "ABX9TyMtx56I3uQB0FCVZPbmJMbg",
      "include_colab_link": true
    },
    "kernelspec": {
      "name": "python3",
      "display_name": "Python 3"
    },
    "language_info": {
      "name": "python"
    }
  },
  "cells": [
    {
      "cell_type": "markdown",
      "metadata": {
        "id": "view-in-github",
        "colab_type": "text"
      },
      "source": [
        "<a href=\"https://colab.research.google.com/github/cacamomille/kmeans_multiprocessing/blob/main/coursera_kmeans.ipynb\" target=\"_parent\"><img src=\"https://colab.research.google.com/assets/colab-badge.svg\" alt=\"Open In Colab\"/></a>"
      ]
    },
    {
      "cell_type": "markdown",
      "source": [
        "# Parallel 25 K-means Clustering Operations with Multiprocessing Module"
      ],
      "metadata": {
        "id": "ZXPdeH11guzs"
      }
    },
    {
      "cell_type": "code",
      "source": [
        "import multiprocessing\n",
        "multiprocessing.cpu_count()"
      ],
      "metadata": {
        "colab": {
          "base_uri": "https://localhost:8080/"
        },
        "id": "SrKlv6rkg3gv",
        "outputId": "90b000c2-c628-4c4c-d5ad-418e1169905d"
      },
      "execution_count": 2,
      "outputs": [
        {
          "output_type": "execute_result",
          "data": {
            "text/plain": [
              "2"
            ]
          },
          "metadata": {},
          "execution_count": 2
        }
      ]
    },
    {
      "cell_type": "code",
      "source": [
        "%%time\n",
        "from multiprocessing import Pool\n",
        "from sklearn.datasets import make_blobs\n",
        "from sklearn.cluster import KMeans\n",
        "import time\n",
        "\n",
        "def do_kmeans(n_samples):\n",
        "    \"\"\"KMeans clustering on generated data\"\"\"\n",
        "\n",
        "    X,_ = make_blobs(n_samples, centers=3, n_features=10,\n",
        "                random_state=0)\n",
        "    kmeans = KMeans(n_clusters=3, n_init=\"auto\")\n",
        "    t0 = time.time()\n",
        "    kmeans.fit(X)\n",
        "    print(f\"KMeans cluster fit in {time.time()-t0}\")\n",
        "\n",
        "count = 25\n",
        "t0 = time.time()\n",
        "with Pool(10) as p:\n",
        "    p.map(do_kmeans, [100000 for x in range(count)])\n",
        "print(f\"Performed {count} KMeans in total time: {time.time()-t0}\")"
      ],
      "metadata": {
        "colab": {
          "base_uri": "https://localhost:8080/"
        },
        "id": "uQ8J2mQenpBe",
        "outputId": "bacc4d32-2f57-4f9e-edb0-6c2d0eecdf63"
      },
      "execution_count": 7,
      "outputs": [
        {
          "output_type": "stream",
          "name": "stdout",
          "text": [
            "KMeans cluster fit in 1.5619935989379883KMeans cluster fit in 1.6175529956817627\n",
            "\n",
            "KMeans cluster fit in 1.6019275188446045KMeans cluster fit in 1.6449401378631592\n",
            "\n",
            "KMeans cluster fit in 1.622251033782959\n",
            "KMeans cluster fit in 1.6255476474761963KMeans cluster fit in 1.6631395816802979KMeans cluster fit in 1.6728811264038086\n",
            "\n",
            "\n",
            "KMeans cluster fit in 1.7040295600891113\n",
            "KMeans cluster fit in 1.7568838596343994\n",
            "KMeans cluster fit in 1.0397706031799316\n",
            "KMeans cluster fit in 1.0311670303344727\n",
            "KMeans cluster fit in 1.0222783088684082KMeans cluster fit in 1.0847032070159912KMeans cluster fit in 1.0760459899902344KMeans cluster fit in 1.0207808017730713\n",
            "KMeans cluster fit in 1.0913729667663574\n",
            "\n",
            "\n",
            "\n",
            "KMeans cluster fit in 1.0767772197723389\n",
            "KMeans cluster fit in 1.101609230041504\n",
            "KMeans cluster fit in 1.0270090103149414\n",
            "KMeans cluster fit in 0.2830467224121094\n",
            "KMeans cluster fit in 0.5361597537994385\n",
            "KMeans cluster fit in 0.5035138130187988\n",
            "KMeans cluster fit in 0.5425071716308594\n",
            "KMeans cluster fit in 0.5568351745605469\n",
            "Performed 25 KMeans in total time: 6.487239837646484\n",
            "CPU times: user 178 ms, sys: 182 ms, total: 360 ms\n",
            "Wall time: 6.49 s\n"
          ]
        }
      ]
    }
  ]
}